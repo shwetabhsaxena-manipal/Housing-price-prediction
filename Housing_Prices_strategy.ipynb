{
 "cells": [
  {
   "cell_type": "markdown",
   "id": "a3501b50",
   "metadata": {},
   "source": [
    "# Housing Prices Prediction\n",
    "\n",
    "We will look at a housing price dataset from the Kaggle competition, having the files \"train.csv\" which will be used to train the model. The \"data_description.txt\" has the description of all features that are present for reference."
   ]
  },
  {
   "cell_type": "code",
   "execution_count": 1,
   "id": "43aa3b5f",
   "metadata": {},
   "outputs": [
    {
     "name": "stdout",
     "output_type": "stream",
     "text": [
      "Here are the first five training examples printed out:\n",
      "   Id  MSSubClass MSZoning  LotFrontage  LotArea Street Alley LotShape  \\\n",
      "0   1          60       RL         65.0     8450   Pave   NaN      Reg   \n",
      "1   2          20       RL         80.0     9600   Pave   NaN      Reg   \n",
      "2   3          60       RL         68.0    11250   Pave   NaN      IR1   \n",
      "3   4          70       RL         60.0     9550   Pave   NaN      IR1   \n",
      "4   5          60       RL         84.0    14260   Pave   NaN      IR1   \n",
      "\n",
      "  LandContour Utilities  ... PoolArea PoolQC Fence MiscFeature MiscVal MoSold  \\\n",
      "0         Lvl    AllPub  ...        0    NaN   NaN         NaN       0      2   \n",
      "1         Lvl    AllPub  ...        0    NaN   NaN         NaN       0      5   \n",
      "2         Lvl    AllPub  ...        0    NaN   NaN         NaN       0      9   \n",
      "3         Lvl    AllPub  ...        0    NaN   NaN         NaN       0      2   \n",
      "4         Lvl    AllPub  ...        0    NaN   NaN         NaN       0     12   \n",
      "\n",
      "  YrSold  SaleType  SaleCondition  SalePrice  \n",
      "0   2008        WD         Normal     208500  \n",
      "1   2007        WD         Normal     181500  \n",
      "2   2008        WD         Normal     223500  \n",
      "3   2006        WD        Abnorml     140000  \n",
      "4   2008        WD         Normal     250000  \n",
      "\n",
      "[5 rows x 81 columns]\n",
      "The dimensions of this dataset are: (1460, 81)\n"
     ]
    }
   ],
   "source": [
    "#import relevant libraries that will be used\n",
    "\n",
    "import numpy as np\n",
    "import pandas as pd\n",
    "import matplotlib.pyplot as plt\n",
    "\n",
    "data = pd.read_csv(\"train.csv\")\n",
    "print(\"Here are the first five training examples printed out:\")\n",
    "print(data.head())\n",
    "print(\"The dimensions of this dataset are:\", data.shape)"
   ]
  },
  {
   "cell_type": "code",
   "execution_count": 2,
   "id": "77753eef",
   "metadata": {},
   "outputs": [
    {
     "name": "stdout",
     "output_type": "stream",
     "text": [
      "Checking to see which features have missing values:\n",
      "\n",
      "LotFrontage was found to have missing values of the amount 259 and will thus be removed.\n",
      "Alley was found to have missing values of the amount 1369 and will thus be removed.\n",
      "MasVnrType was found to have missing values of the amount 8 and will thus be removed.\n",
      "MasVnrArea was found to have missing values of the amount 8 and will thus be removed.\n",
      "BsmtQual was found to have missing values of the amount 37 and will thus be removed.\n",
      "BsmtCond was found to have missing values of the amount 37 and will thus be removed.\n",
      "BsmtExposure was found to have missing values of the amount 38 and will thus be removed.\n",
      "BsmtFinType1 was found to have missing values of the amount 37 and will thus be removed.\n",
      "BsmtFinType2 was found to have missing values of the amount 38 and will thus be removed.\n",
      "Electrical was found to have missing values of the amount 1 and will thus be removed.\n",
      "FireplaceQu was found to have missing values of the amount 690 and will thus be removed.\n",
      "GarageType was found to have missing values of the amount 81 and will thus be removed.\n",
      "GarageYrBlt was found to have missing values of the amount 81 and will thus be removed.\n",
      "GarageFinish was found to have missing values of the amount 81 and will thus be removed.\n",
      "GarageQual was found to have missing values of the amount 81 and will thus be removed.\n",
      "GarageCond was found to have missing values of the amount 81 and will thus be removed.\n",
      "PoolQC was found to have missing values of the amount 1453 and will thus be removed.\n",
      "Fence was found to have missing values of the amount 1179 and will thus be removed.\n",
      "MiscFeature was found to have missing values of the amount 1406 and will thus be removed.\n",
      "The number of features removed are: (1460, 62)\n"
     ]
    }
   ],
   "source": [
    "#Now we see that that we have 1460 training examples. Now we have to verify if there are any missing values and which features\n",
    "#have them and how much.\n",
    "\n",
    "print(\"Checking to see which features have missing values:\\n\")\n",
    "for columnName, columnValue in data.iteritems():\n",
    "    if(data[columnName].isnull().any()):\n",
    "        print(columnName, \"was found to have missing values of the amount\", data[columnName].isnull().sum(), \"and will thus be removed.\")\n",
    "        del data[columnName]\n",
    "print(\"The number of features removed are:\", data.shape)"
   ]
  },
  {
   "cell_type": "code",
   "execution_count": 3,
   "id": "7a3d2c45",
   "metadata": {},
   "outputs": [
    {
     "name": "stdout",
     "output_type": "stream",
     "text": [
      "<class 'pandas.core.frame.DataFrame'>\n",
      "RangeIndex: 1460 entries, 0 to 1459\n",
      "Data columns (total 62 columns):\n",
      " #   Column         Non-Null Count  Dtype \n",
      "---  ------         --------------  ----- \n",
      " 0   Id             1460 non-null   int64 \n",
      " 1   MSSubClass     1460 non-null   int64 \n",
      " 2   MSZoning       1460 non-null   object\n",
      " 3   LotArea        1460 non-null   int64 \n",
      " 4   Street         1460 non-null   object\n",
      " 5   LotShape       1460 non-null   object\n",
      " 6   LandContour    1460 non-null   object\n",
      " 7   Utilities      1460 non-null   object\n",
      " 8   LotConfig      1460 non-null   object\n",
      " 9   LandSlope      1460 non-null   object\n",
      " 10  Neighborhood   1460 non-null   object\n",
      " 11  Condition1     1460 non-null   object\n",
      " 12  Condition2     1460 non-null   object\n",
      " 13  BldgType       1460 non-null   object\n",
      " 14  HouseStyle     1460 non-null   object\n",
      " 15  OverallQual    1460 non-null   int64 \n",
      " 16  OverallCond    1460 non-null   int64 \n",
      " 17  YearBuilt      1460 non-null   int64 \n",
      " 18  YearRemodAdd   1460 non-null   int64 \n",
      " 19  RoofStyle      1460 non-null   object\n",
      " 20  RoofMatl       1460 non-null   object\n",
      " 21  Exterior1st    1460 non-null   object\n",
      " 22  Exterior2nd    1460 non-null   object\n",
      " 23  ExterQual      1460 non-null   object\n",
      " 24  ExterCond      1460 non-null   object\n",
      " 25  Foundation     1460 non-null   object\n",
      " 26  BsmtFinSF1     1460 non-null   int64 \n",
      " 27  BsmtFinSF2     1460 non-null   int64 \n",
      " 28  BsmtUnfSF      1460 non-null   int64 \n",
      " 29  TotalBsmtSF    1460 non-null   int64 \n",
      " 30  Heating        1460 non-null   object\n",
      " 31  HeatingQC      1460 non-null   object\n",
      " 32  CentralAir     1460 non-null   object\n",
      " 33  1stFlrSF       1460 non-null   int64 \n",
      " 34  2ndFlrSF       1460 non-null   int64 \n",
      " 35  LowQualFinSF   1460 non-null   int64 \n",
      " 36  GrLivArea      1460 non-null   int64 \n",
      " 37  BsmtFullBath   1460 non-null   int64 \n",
      " 38  BsmtHalfBath   1460 non-null   int64 \n",
      " 39  FullBath       1460 non-null   int64 \n",
      " 40  HalfBath       1460 non-null   int64 \n",
      " 41  BedroomAbvGr   1460 non-null   int64 \n",
      " 42  KitchenAbvGr   1460 non-null   int64 \n",
      " 43  KitchenQual    1460 non-null   object\n",
      " 44  TotRmsAbvGrd   1460 non-null   int64 \n",
      " 45  Functional     1460 non-null   object\n",
      " 46  Fireplaces     1460 non-null   int64 \n",
      " 47  GarageCars     1460 non-null   int64 \n",
      " 48  GarageArea     1460 non-null   int64 \n",
      " 49  PavedDrive     1460 non-null   object\n",
      " 50  WoodDeckSF     1460 non-null   int64 \n",
      " 51  OpenPorchSF    1460 non-null   int64 \n",
      " 52  EnclosedPorch  1460 non-null   int64 \n",
      " 53  3SsnPorch      1460 non-null   int64 \n",
      " 54  ScreenPorch    1460 non-null   int64 \n",
      " 55  PoolArea       1460 non-null   int64 \n",
      " 56  MiscVal        1460 non-null   int64 \n",
      " 57  MoSold         1460 non-null   int64 \n",
      " 58  YrSold         1460 non-null   int64 \n",
      " 59  SaleType       1460 non-null   object\n",
      " 60  SaleCondition  1460 non-null   object\n",
      " 61  SalePrice      1460 non-null   int64 \n",
      "dtypes: int64(35), object(27)\n",
      "memory usage: 707.3+ KB\n"
     ]
    }
   ],
   "source": [
    "#Now we will find out what data types are in each column so that we can move forward with the data pre-processing\n",
    "data.info()"
   ]
  },
  {
   "cell_type": "code",
   "execution_count": 4,
   "id": "03935dd8",
   "metadata": {},
   "outputs": [
    {
     "name": "stdout",
     "output_type": "stream",
     "text": [
      "The number of changes made to the dataset: 27\n",
      "<class 'pandas.core.frame.DataFrame'>\n",
      "RangeIndex: 1460 entries, 0 to 1459\n",
      "Data columns (total 62 columns):\n",
      " #   Column         Non-Null Count  Dtype\n",
      "---  ------         --------------  -----\n",
      " 0   Id             1460 non-null   int64\n",
      " 1   MSSubClass     1460 non-null   int64\n",
      " 2   MSZoning       1460 non-null   int64\n",
      " 3   LotArea        1460 non-null   int64\n",
      " 4   Street         1460 non-null   int64\n",
      " 5   LotShape       1460 non-null   int64\n",
      " 6   LandContour    1460 non-null   int64\n",
      " 7   Utilities      1460 non-null   int64\n",
      " 8   LotConfig      1460 non-null   int64\n",
      " 9   LandSlope      1460 non-null   int64\n",
      " 10  Neighborhood   1460 non-null   int64\n",
      " 11  Condition1     1460 non-null   int64\n",
      " 12  Condition2     1460 non-null   int64\n",
      " 13  BldgType       1460 non-null   int64\n",
      " 14  HouseStyle     1460 non-null   int64\n",
      " 15  OverallQual    1460 non-null   int64\n",
      " 16  OverallCond    1460 non-null   int64\n",
      " 17  YearBuilt      1460 non-null   int64\n",
      " 18  YearRemodAdd   1460 non-null   int64\n",
      " 19  RoofStyle      1460 non-null   int64\n",
      " 20  RoofMatl       1460 non-null   int64\n",
      " 21  Exterior1st    1460 non-null   int64\n",
      " 22  Exterior2nd    1460 non-null   int64\n",
      " 23  ExterQual      1460 non-null   int64\n",
      " 24  ExterCond      1460 non-null   int64\n",
      " 25  Foundation     1460 non-null   int64\n",
      " 26  BsmtFinSF1     1460 non-null   int64\n",
      " 27  BsmtFinSF2     1460 non-null   int64\n",
      " 28  BsmtUnfSF      1460 non-null   int64\n",
      " 29  TotalBsmtSF    1460 non-null   int64\n",
      " 30  Heating        1460 non-null   int64\n",
      " 31  HeatingQC      1460 non-null   int64\n",
      " 32  CentralAir     1460 non-null   int64\n",
      " 33  1stFlrSF       1460 non-null   int64\n",
      " 34  2ndFlrSF       1460 non-null   int64\n",
      " 35  LowQualFinSF   1460 non-null   int64\n",
      " 36  GrLivArea      1460 non-null   int64\n",
      " 37  BsmtFullBath   1460 non-null   int64\n",
      " 38  BsmtHalfBath   1460 non-null   int64\n",
      " 39  FullBath       1460 non-null   int64\n",
      " 40  HalfBath       1460 non-null   int64\n",
      " 41  BedroomAbvGr   1460 non-null   int64\n",
      " 42  KitchenAbvGr   1460 non-null   int64\n",
      " 43  KitchenQual    1460 non-null   int64\n",
      " 44  TotRmsAbvGrd   1460 non-null   int64\n",
      " 45  Functional     1460 non-null   int64\n",
      " 46  Fireplaces     1460 non-null   int64\n",
      " 47  GarageCars     1460 non-null   int64\n",
      " 48  GarageArea     1460 non-null   int64\n",
      " 49  PavedDrive     1460 non-null   int64\n",
      " 50  WoodDeckSF     1460 non-null   int64\n",
      " 51  OpenPorchSF    1460 non-null   int64\n",
      " 52  EnclosedPorch  1460 non-null   int64\n",
      " 53  3SsnPorch      1460 non-null   int64\n",
      " 54  ScreenPorch    1460 non-null   int64\n",
      " 55  PoolArea       1460 non-null   int64\n",
      " 56  MiscVal        1460 non-null   int64\n",
      " 57  MoSold         1460 non-null   int64\n",
      " 58  YrSold         1460 non-null   int64\n",
      " 59  SaleType       1460 non-null   int64\n",
      " 60  SaleCondition  1460 non-null   int64\n",
      " 61  SalePrice      1460 non-null   int64\n",
      "dtypes: int64(62)\n",
      "memory usage: 707.3 KB\n",
      "Displaying the info for all columns for sanity check:  None\n",
      "Printing the modified dataset:\n",
      "    Id  MSSubClass  MSZoning  LotArea  Street  LotShape  LandContour  \\\n",
      "0   1          60         1     8450       1         1            1   \n",
      "1   2          20         1     9600       1         1            1   \n",
      "2   3          60         1    11250       1         2            1   \n",
      "3   4          70         1     9550       1         2            1   \n",
      "4   5          60         1    14260       1         2            1   \n",
      "\n",
      "   Utilities  LotConfig  LandSlope  ...  EnclosedPorch  3SsnPorch  \\\n",
      "0          1          1          1  ...              0          0   \n",
      "1          1          2          1  ...              0          0   \n",
      "2          1          1          1  ...              0          0   \n",
      "3          1          3          1  ...            272          0   \n",
      "4          1          2          1  ...              0          0   \n",
      "\n",
      "   ScreenPorch  PoolArea  MiscVal  MoSold  YrSold  SaleType  SaleCondition  \\\n",
      "0            0         0        0       2    2008         1              1   \n",
      "1            0         0        0       5    2007         1              1   \n",
      "2            0         0        0       9    2008         1              1   \n",
      "3            0         0        0       2    2006         1              2   \n",
      "4            0         0        0      12    2008         1              1   \n",
      "\n",
      "   SalePrice  \n",
      "0     208500  \n",
      "1     181500  \n",
      "2     223500  \n",
      "3     140000  \n",
      "4     250000  \n",
      "\n",
      "[5 rows x 62 columns]\n"
     ]
    }
   ],
   "source": [
    "#We have 27 features that are of 'object' type, and by reference to the data description file, we know that they are string\n",
    "#objects, representing cataegories that are present. We thus have to convert these categories into numerical values, so that\n",
    "#they can be processed by the algorithm. What is done here is, we will traverse the entire column, and for any new key, it will\n",
    "#replaced with a subsequent value, increment of the previous, starting from 1.\n",
    "num_change = 0\n",
    "for (columnName, columnData) in data.iteritems():\n",
    "    if(data.dtypes[columnName]==object):\n",
    "        num_change += 1\n",
    "        count = 1\n",
    "        dictionary = {}\n",
    "        for i in range(1460):\n",
    "            if(dictionary.get(columnData[i])==None):\n",
    "                dictionary[columnData[i]] = count\n",
    "                count += 1\n",
    "            else: continue\n",
    "        data[columnName] = data[columnName].replace(dictionary)\n",
    "print(\"The number of changes made to the dataset:\", num_change)\n",
    "print(\"Displaying the info for all columns for sanity check: \", data.info())\n",
    "print(\"Printing the modified dataset:\\n\", data.head())\n",
    "del data['Id']"
   ]
  },
  {
   "cell_type": "code",
   "execution_count": 5,
   "id": "f5a65b3f",
   "metadata": {},
   "outputs": [
    {
     "name": "stdout",
     "output_type": "stream",
     "text": [
      "The dimensions of the training sets are: (1168, 60) (1168, 1)\n",
      "The dimensions of the training sets are: (292, 60) (292, 1)\n"
     ]
    }
   ],
   "source": [
    "#We have converted all the values and they are now in int64 format. We can now proceed with multivariate linear regression.\n",
    "#We will first split the dataset into two parts, training and testing set in 80%-20% configuration.\n",
    "\n",
    "xtrain = data[:1168]\n",
    "ytrain = np.array(xtrain['SalePrice']).reshape(1168, 1)\n",
    "del xtrain['SalePrice']\n",
    "print(\"The dimensions of the training sets are:\", xtrain.shape, ytrain.shape)\n",
    "\n",
    "xtest = data[1168:]\n",
    "ytest = np.array(xtest['SalePrice']).reshape(292, 1)\n",
    "del xtest['SalePrice']\n",
    "print(\"The dimensions of the training sets are:\", xtest.shape, ytest.shape)"
   ]
  },
  {
   "cell_type": "code",
   "execution_count": 6,
   "id": "dd47b1a7",
   "metadata": {},
   "outputs": [
    {
     "name": "stderr",
     "output_type": "stream",
     "text": [
      "C:\\Users\\SHWETA~1\\AppData\\Local\\Temp/ipykernel_2268/4155204169.py:6: SettingWithCopyWarning: \n",
      "A value is trying to be set on a copy of a slice from a DataFrame.\n",
      "Try using .loc[row_indexer,col_indexer] = value instead\n",
      "\n",
      "See the caveats in the documentation: https://pandas.pydata.org/pandas-docs/stable/user_guide/indexing.html#returning-a-view-versus-a-copy\n",
      "  if(X.std(axis=0)[i]!=0): X[columnName] = (X[columnName]-X.mean(axis=0)[i])/X.std(axis=0)[i]\n"
     ]
    },
    {
     "name": "stdout",
     "output_type": "stream",
     "text": [
      "The amended dataset becomes:\n",
      "    MSSubClass  MSZoning   LotArea   Street  LotShape  LandContour  Utilities  \\\n",
      "0    0.076049 -0.427231 -0.193993 -0.06554 -0.710215    -0.299752   -0.02926   \n",
      "1   -0.865143 -0.427231 -0.086301 -0.06554 -0.710215    -0.299752   -0.02926   \n",
      "2    0.076049 -0.427231  0.068213 -0.06554  1.017975    -0.299752   -0.02926   \n",
      "3    0.311347 -0.427231 -0.090984 -0.06554  1.017975    -0.299752   -0.02926   \n",
      "4    0.076049 -0.427231  0.350085 -0.06554  1.017975    -0.299752   -0.02926   \n",
      "\n",
      "   LotConfig  LandSlope  Neighborhood  ...  OpenPorchSF  EnclosedPorch  \\\n",
      "0  -0.591594  -0.222517     -1.652382  ...     0.227290      -0.357457   \n",
      "1   0.405494  -0.222517     -1.480583  ...    -0.703396      -0.357457   \n",
      "2  -0.591594  -0.222517     -1.652382  ...    -0.062596      -0.357457   \n",
      "3   1.402581  -0.222517     -1.308785  ...    -0.169396       4.119862   \n",
      "4   0.405494  -0.222517     -1.136987  ...     0.578204      -0.357457   \n",
      "\n",
      "   3SsnPorch  ScreenPorch  PoolArea   MiscVal    MoSold    YrSold  SaleType  \\\n",
      "0  -0.120436     -0.27305 -0.041116 -0.082843 -1.608174  0.136313 -0.302363   \n",
      "1  -0.120436     -0.27305 -0.041116 -0.082843 -0.485879 -0.621848 -0.302363   \n",
      "2  -0.120436     -0.27305 -0.041116 -0.082843  1.010514  0.136313 -0.302363   \n",
      "3  -0.120436     -0.27305 -0.041116 -0.082843 -1.608174 -1.380009 -0.302363   \n",
      "4  -0.120436     -0.27305 -0.041116 -0.082843  2.132809  0.136313 -0.302363   \n",
      "\n",
      "   SaleCondition  \n",
      "0      -0.401689  \n",
      "1      -0.401689  \n",
      "2      -0.401689  \n",
      "3       0.694509  \n",
      "4      -0.401689  \n",
      "\n",
      "[5 rows x 60 columns]\n"
     ]
    }
   ],
   "source": [
    "#However, since the features aren't scaled properly, the gradient descent algorithm will converge to the cost function minima\n",
    "#very slowly. We will use mean normalisation with standard deviation division.\n",
    "def normalise(X):\n",
    "    i = 0\n",
    "    for columnName, columnValue in X.iteritems():\n",
    "        if(X.std(axis=0)[i]!=0): X[columnName] = (X[columnName]-X.mean(axis=0)[i])/X.std(axis=0)[i]\n",
    "        i +=1\n",
    "\n",
    "normalise(xtrain)\n",
    "print(\"The amended dataset becomes:\\n\", xtrain.head())"
   ]
  },
  {
   "cell_type": "code",
   "execution_count": 7,
   "id": "fa4ee146",
   "metadata": {},
   "outputs": [],
   "source": [
    "#We now need to append the bias column of ones for training the model.\n",
    "\n",
    "X0train = np.ones(len(xtrain)).reshape(1168, 1)\n",
    "Xtrain = np.append(X0train, xtrain, axis=1).reshape(1168, 61)"
   ]
  },
  {
   "cell_type": "code",
   "execution_count": 8,
   "id": "8eb6d6c2",
   "metadata": {},
   "outputs": [],
   "source": [
    "#Here we define the cost function [with regularization] and the gradient descent function.\n",
    "\n",
    "def computeCost(X, y, theta, lambda1):\n",
    "    theta1 = np.array(theta)\n",
    "    theta1[0] = 0\n",
    "    J = (1/(2*m))*((np.sum(np.square((X @ theta)-y)))+(lambda1*np.sum(np.square(theta1))))\n",
    "    return J;\n",
    "\n",
    "def gradientDescent(X, y, theta, alpha, lambda1, iterations, m):\n",
    "    J_history = np.zeros(iterations).reshape(iterations, 1)\n",
    "    for iter in range(iterations):\n",
    "        theta1 = np.array(theta)\n",
    "        theta1[0] = 0\n",
    "        theta = theta - (alpha/m)*((X.transpose() @ ((X @ theta)-y))+(lambda1*theta1))\n",
    "        J_history[iter] = computeCost(X, y, theta, lambda1)\n",
    "    return [theta, J_history]"
   ]
  },
  {
   "cell_type": "code",
   "execution_count": 9,
   "id": "aea902f5",
   "metadata": {},
   "outputs": [
    {
     "name": "stdout",
     "output_type": "stream",
     "text": [
      "Cost when the parameters are zeros: 19409722053.221745\n"
     ]
    }
   ],
   "source": [
    "m = 1168\n",
    "lambda1 = 1\n",
    "theta = np.zeros(61).reshape(61, 1)\n",
    "print(\"Cost when the parameters are zeros:\", computeCost(Xtrain, ytrain, theta, lambda1))"
   ]
  },
  {
   "cell_type": "code",
   "execution_count": 10,
   "id": "08bdf5d2",
   "metadata": {},
   "outputs": [
    {
     "name": "stdout",
     "output_type": "stream",
     "text": [
      "The final cost value is: 433497817.7738981\n"
     ]
    }
   ],
   "source": [
    "#Now we will train the model using the parameters shown below.\n",
    "\n",
    "theta = np.zeros(61).reshape(61, 1)\n",
    "alpha, lambda1, iterations, m = 0.002, 0.5, 2000, 1168\n",
    "\n",
    "returned = gradientDescent(Xtrain, ytrain, theta, alpha, lambda1, iterations, m)\n",
    "theta = returned[0]\n",
    "J_history = returned[1]\n",
    "print(\"The final cost value is:\", computeCost(Xtrain, ytrain, theta, lambda1))"
   ]
  },
  {
   "cell_type": "code",
   "execution_count": 11,
   "id": "c0023144",
   "metadata": {},
   "outputs": [
    {
     "data": {
      "text/plain": [
       "[<matplotlib.lines.Line2D at 0x172b2f64700>]"
      ]
     },
     "execution_count": 11,
     "metadata": {},
     "output_type": "execute_result"
    },
    {
     "data": {
      "image/png": "[encoded data removed]",
      "text/plain": [
       "<Figure size 432x288 with 1 Axes>"
      ]
     },
     "metadata": {
      "needs_background": "light"
     },
     "output_type": "display_data"
    }
   ],
   "source": [
    "#We will also plot the value of the cost function after each iteration, to see the value reach a minimum and converge to a\n",
    "#stabalised value.\n",
    "plt.xlabel('Iterations')\n",
    "plt.ylabel('Cost function history')\n",
    "plt.plot(range(2000), J_history)"
   ]
  },
  {
   "cell_type": "code",
   "execution_count": 12,
   "id": "5a7ec2fd",
   "metadata": {
    "scrolled": true
   },
   "outputs": [
    {
     "name": "stderr",
     "output_type": "stream",
     "text": [
      "C:\\Users\\SHWETA~1\\AppData\\Local\\Temp/ipykernel_2268/4155204169.py:6: SettingWithCopyWarning: \n",
      "A value is trying to be set on a copy of a slice from a DataFrame.\n",
      "Try using .loc[row_indexer,col_indexer] = value instead\n",
      "\n",
      "See the caveats in the documentation: https://pandas.pydata.org/pandas-docs/stable/user_guide/indexing.html#returning-a-view-versus-a-copy\n",
      "  if(X.std(axis=0)[i]!=0): X[columnName] = (X[columnName]-X.mean(axis=0)[i])/X.std(axis=0)[i]\n"
     ]
    },
    {
     "name": "stdout",
     "output_type": "stream",
     "text": [
      "Prediction of prices by our model:\n",
      " [[200912.96075461]\n",
      " [401468.08327841]\n",
      " [137797.55703337]\n",
      " [175855.97577996]\n",
      " [160522.29711385]]\n",
      "Actual prices in the dataset:\n",
      " [[235000]\n",
      " [625000]\n",
      " [171000]\n",
      " [163000]\n",
      " [171900]]\n",
      "The standard deviation of the values is: [46129.83868243]\n",
      "The root mean square error is: 46499.876111059995\n"
     ]
    }
   ],
   "source": [
    "#Now we must cross-check accuracy with the test set.\n",
    "\n",
    "X0test = np.ones(len(xtest)).reshape(292, 1)\n",
    "normalise(xtest)\n",
    "Xtest = np.append(X0test, xtest, axis=1).reshape(292, 61)\n",
    "prediction = Xtest @ theta\n",
    "print(\"Prediction of prices by our model:\\n\", prediction[:5])\n",
    "print(\"Actual prices in the dataset:\\n\", ytest[:5])\n",
    "std_deviation = np.std((ytest-prediction), axis=0)\n",
    "print(\"The standard deviation of the values is:\", std_deviation)\n",
    "print(\"The root mean square error is:\", np.mean(np.square(ytest-prediction))**0.5)"
   ]
  },
  {
   "cell_type": "code",
   "execution_count": 13,
   "id": "7e0c4f35",
   "metadata": {},
   "outputs": [
    {
     "data": {
      "image/png": "[encoded data removed]",
      "text/plain": [
       "<Figure size 432x288 with 1 Axes>"
      ]
     },
     "metadata": {
      "needs_background": "light"
     },
     "output_type": "display_data"
    }
   ],
   "source": [
    "plt.hist(ytest-prediction)\n",
    "plt.xticks(range(-600000, 400000, 50000))\n",
    "plt.show()"
   ]
  },
  {
   "cell_type": "markdown",
   "id": "29f7ebc8",
   "metadata": {},
   "source": [
    "We can clearly see that for about 250 training examples, the prediction is off within the range of -50,000 to 25,000. This is not very bad as we have used linear regression, this is the best answer we can get using this algorithm. By using multivariate polynomial regression, we can make the prediction slightly more accurate.\n",
    "\n",
    "Another thing to realise is that many of the features many not have collinearity with the target variable [sale price] and hence, those features may confuse the model, making it more inaccurate. Checking each feature with the target variable to access whether is relevant or not needs to be done.\n",
    "\n",
    "During the pre-processing stage, we dropped all features with NaN values, but replacing NaN values with 0 or mean of the column for any missing values below 10 could also be explored, providing us with more features. The fact that each feature of 'key' type didn't have all occurence of each key defined in the feature at least once was also ignored, because it is possible that a key that was not in the training set might occur in input data for prediction, which will throw the prediction value off the actual value."
   ]
  },
  {
   "cell_type": "code",
   "execution_count": null,
   "id": "7f564da9",
   "metadata": {},
   "outputs": [],
   "source": []
  }
 ],
 "metadata": {
  "kernelspec": {
   "display_name": "Python 3 (ipykernel)",
   "language": "python",
   "name": "python3"
  },
  "language_info": {
   "codemirror_mode": {
    "name": "ipython",
    "version": 3
   },
   "file_extension": ".py",
   "mimetype": "text/x-python",
   "name": "python",
   "nbconvert_exporter": "python",
   "pygments_lexer": "ipython3",
   "version": "3.10.0"
  }
 },
 "nbformat": 4,
 "nbformat_minor": 5
}
