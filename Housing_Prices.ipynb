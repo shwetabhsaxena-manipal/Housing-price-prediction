{
 "cells": [
  {
   "cell_type": "markdown",
   "id": "7618dafd",
   "metadata": {},
   "source": [
    "# Housing prices prediction\n",
    "\n",
    "This model uses the dataset taken from the Kaggle competition, and is a simple linear regression with regularization model. The\n",
    "information regarding each feature of dataset can be found in the \"data_description.txt\" file. The \"train.csv\" file will be used, split into a training and test set."
   ]
  },
  {
   "cell_type": "code",
   "execution_count": 207,
   "id": "65b0e712",
   "metadata": {},
   "outputs": [
    {
     "name": "stdout",
     "output_type": "stream",
     "text": [
      "Here are the first five training examples printed out:\n",
      "   Id  MSSubClass MSZoning  LotFrontage  LotArea Street Alley LotShape  \\\n",
      "0   1          60       RL         65.0     8450   Pave   NaN      Reg   \n",
      "1   2          20       RL         80.0     9600   Pave   NaN      Reg   \n",
      "2   3          60       RL         68.0    11250   Pave   NaN      IR1   \n",
      "3   4          70       RL         60.0     9550   Pave   NaN      IR1   \n",
      "4   5          60       RL         84.0    14260   Pave   NaN      IR1   \n",
      "\n",
      "  LandContour Utilities  ... PoolArea PoolQC Fence MiscFeature MiscVal MoSold  \\\n",
      "0         Lvl    AllPub  ...        0    NaN   NaN         NaN       0      2   \n",
      "1         Lvl    AllPub  ...        0    NaN   NaN         NaN       0      5   \n",
      "2         Lvl    AllPub  ...        0    NaN   NaN         NaN       0      9   \n",
      "3         Lvl    AllPub  ...        0    NaN   NaN         NaN       0      2   \n",
      "4         Lvl    AllPub  ...        0    NaN   NaN         NaN       0     12   \n",
      "\n",
      "  YrSold  SaleType  SaleCondition  SalePrice  \n",
      "0   2008        WD         Normal     208500  \n",
      "1   2007        WD         Normal     181500  \n",
      "2   2008        WD         Normal     223500  \n",
      "3   2006        WD        Abnorml     140000  \n",
      "4   2008        WD         Normal     250000  \n",
      "\n",
      "[5 rows x 81 columns]\n",
      "The dimensions of this dataset are: (1460, 81)\n"
     ]
    }
   ],
   "source": [
    "#import relevant libraries that will be used\n",
    "import numpy as np\n",
    "import pandas as pd\n",
    "import matplotlib.pyplot as plt\n",
    "\n",
    "data = pd.read_csv(\"train.csv\")\n",
    "print(\"Here are the first five training examples printed out:\")\n",
    "print(data.head())\n",
    "print(\"The dimensions of this dataset are:\", data.shape)"
   ]
  },
  {
   "cell_type": "code",
   "execution_count": 208,
   "id": "0c44424f",
   "metadata": {},
   "outputs": [
    {
     "name": "stdout",
     "output_type": "stream",
     "text": [
      "Id y/n for amending:\n",
      "n\n",
      "MSSubClass y/n for amending:\n",
      "n\n",
      "MSZoning y/n for amending:\n",
      "y\n",
      "LotFrontage y/n for amending:\n",
      "n\n",
      "LotArea y/n for amending:\n",
      "n\n",
      "Street y/n for amending:\n",
      "y\n",
      "Alley y/n for amending:\n",
      "y\n",
      "LotShape y/n for amending:\n",
      "y\n",
      "LandContour y/n for amending:\n",
      "y\n",
      "Utilities y/n for amending:\n",
      "y\n",
      "LotConfig y/n for amending:\n",
      "y\n",
      "LandSlope y/n for amending:\n",
      "y\n",
      "Neighborhood y/n for amending:\n",
      "y\n",
      "Condition1 y/n for amending:\n",
      "y\n",
      "Condition2 y/n for amending:\n",
      "y\n",
      "BldgType y/n for amending:\n",
      "y\n",
      "HouseStyle y/n for amending:\n",
      "y\n",
      "OverallQual y/n for amending:\n",
      "n\n",
      "OverallCond y/n for amending:\n",
      "n\n",
      "YearBuilt y/n for amending:\n",
      "n\n",
      "YearRemodAdd y/n for amending:\n",
      "n\n",
      "RoofStyle y/n for amending:\n",
      "y\n",
      "RoofMatl y/n for amending:\n",
      "y\n",
      "Exterior1st y/n for amending:\n",
      "y\n",
      "Exterior2nd y/n for amending:\n",
      "y\n",
      "MasVnrType y/n for amending:\n",
      "y\n",
      "MasVnrArea y/n for amending:\n",
      "n\n",
      "ExterQual y/n for amending:\n",
      "y\n",
      "ExterCond y/n for amending:\n",
      "y\n",
      "Foundation y/n for amending:\n",
      "y\n",
      "BsmtQual y/n for amending:\n",
      "y\n",
      "BsmtCond y/n for amending:\n",
      "y\n",
      "BsmtExposure y/n for amending:\n",
      "y\n",
      "BsmtFinType1 y/n for amending:\n",
      "y\n",
      "BsmtFinSF1 y/n for amending:\n",
      "n\n",
      "BsmtFinType2 y/n for amending:\n",
      "y\n",
      "BsmtFinSF2 y/n for amending:\n",
      "n\n",
      "BsmtUnfSF y/n for amending:\n",
      "n\n",
      "TotalBsmtSF y/n for amending:\n",
      "n\n",
      "Heating y/n for amending:\n",
      "y\n",
      "HeatingQC y/n for amending:\n",
      "y\n",
      "CentralAir y/n for amending:\n",
      "y\n",
      "Electrical y/n for amending:\n",
      "y\n",
      "1stFlrSF y/n for amending:\n",
      "n\n",
      "2ndFlrSF y/n for amending:\n",
      "n\n",
      "LowQualFinSF y/n for amending:\n",
      "n\n",
      "GrLivArea y/n for amending:\n",
      "n\n",
      "BsmtFullBath y/n for amending:\n",
      "n\n",
      "BsmtHalfBath y/n for amending:\n",
      "n\n",
      "FullBath y/n for amending:\n",
      "n\n",
      "HalfBath y/n for amending:\n",
      "n\n",
      "BedroomAbvGr y/n for amending:\n",
      "n\n",
      "KitchenAbvGr y/n for amending:\n",
      "n\n",
      "KitchenQual y/n for amending:\n",
      "y\n",
      "TotRmsAbvGrd y/n for amending:\n",
      "n\n",
      "Functional y/n for amending:\n",
      "y\n",
      "Fireplaces y/n for amending:\n",
      "n\n",
      "FireplaceQu y/n for amending:\n",
      "y\n",
      "GarageType y/n for amending:\n",
      "y\n",
      "GarageYrBlt y/n for amending:\n",
      "n\n",
      "GarageFinish y/n for amending:\n",
      "y\n",
      "GarageCars y/n for amending:\n",
      "n\n",
      "GarageArea y/n for amending:\n",
      "n\n",
      "GarageQual y/n for amending:\n",
      "y\n",
      "GarageCond y/n for amending:\n",
      "y\n",
      "PavedDrive y/n for amending:\n",
      "y\n",
      "WoodDeckSF y/n for amending:\n",
      "n\n",
      "OpenPorchSF y/n for amending:\n",
      "n\n",
      "EnclosedPorch y/n for amending:\n",
      "n\n",
      "3SsnPorch y/n for amending:\n",
      "n\n",
      "ScreenPorch y/n for amending:\n",
      "n\n",
      "PoolArea y/n for amending:\n",
      "n\n",
      "PoolQC y/n for amending:\n",
      "y\n",
      "Fence y/n for amending:\n",
      "y\n",
      "MiscFeature y/n for amending:\n",
      "y\n",
      "MiscVal y/n for amending:\n",
      "n\n",
      "MoSold y/n for amending:\n",
      "n\n",
      "YrSold y/n for amending:\n",
      "n\n",
      "SaleType y/n for amending:\n",
      "y\n",
      "SaleCondition y/n for amending:\n",
      "y\n",
      "SalePrice y/n for amending:\n",
      "n\n"
     ]
    }
   ],
   "source": [
    "#As seen above, it is observed that not all the data is numerical, it is key-based.\n",
    "#Thus, we need to convert the keys to a corresponding numerical value. Each key will be assigned\n",
    "#its corresponding value based on it's occurence, for example, RL in MSZoning comes first, hence\n",
    "#it will carry the value 1.\n",
    "for (columnName, columnData) in data.iteritems():\n",
    "    print(columnName, \"y/n for amending:\")\n",
    "    string = input()\n",
    "    if(string==\"y\"):\n",
    "        count = 1\n",
    "        dictionary = {}\n",
    "        for i in range(1460):\n",
    "            if(dictionary.get(columnData[i])==None):\n",
    "                dictionary[columnData[i]] = count\n",
    "                count += 1\n",
    "            else: continue\n",
    "        data[columnName] = data[columnName].replace(dictionary)"
   ]
  },
  {
   "cell_type": "code",
   "execution_count": 209,
   "id": "ecad3f70",
   "metadata": {},
   "outputs": [
    {
     "name": "stdout",
     "output_type": "stream",
     "text": [
      "Checking for any NaN values: False\n",
      "The amended dimensions are: (1121, 80)\n"
     ]
    }
   ],
   "source": [
    "del data['Id'] #deleting the internal index for the training examples\n",
    "data_copy = data.dropna() #dropping any NaN values that will cause trouble.\n",
    "print(\"Checking for any NaN values:\", data_copy.isnull().values.any())\n",
    "print(\"The amended dimensions are:\", data_copy.shape)"
   ]
  },
  {
   "cell_type": "code",
   "execution_count": 233,
   "id": "32ce4381",
   "metadata": {},
   "outputs": [
    {
     "name": "stdout",
     "output_type": "stream",
     "text": [
      "The dimensions for training set for features and for price are: (896, 79) (896, 1)\n",
      "The dimensions for training set for features and for price are: (225, 79) (225, 1)\n"
     ]
    }
   ],
   "source": [
    "#Splitting to training set and test set, with 80%-20% configuration\n",
    "train = data_copy[:896]\n",
    "xtrain = train\n",
    "ytrain = np.array(xtrain['SalePrice']).reshape(896, 1)\n",
    "del xtrain['SalePrice']\n",
    "print(\"The dimensions for training set for features and for price are:\", xtrain.shape, ytrain.shape)\n",
    "test = data_copy[896:]\n",
    "xtest = test\n",
    "ytest = np.array(xtest['SalePrice']).reshape(225, 1)\n",
    "del xtest['SalePrice']\n",
    "print(\"The dimensions for training set for features and for price are:\", xtest.shape, ytest.shape)"
   ]
  },
  {
   "cell_type": "code",
   "execution_count": 271,
   "id": "ea4c76f7",
   "metadata": {},
   "outputs": [
    {
     "name": "stdout",
     "output_type": "stream",
     "text": [
      "The dimensions for the feature set after appending with vector of ones: (896, 475)\n"
     ]
    }
   ],
   "source": [
    "#Adding a column of ones\n",
    "X0train = np.ones(len(xtrain)).reshape(896, 1)\n",
    "Xtrain = np.append(X0train, xtrain, axis=1).reshape(896, 80)\n",
    "Xtrain = np.append(Xtrain, (xtrain**2), axis=1).reshape(896, 159)\n",
    "Xtrain = np.append(Xtrain, (xtrain**3), axis=1).reshape(896, 238)\n",
    "Xtrain = np.append(Xtrain, (xtrain**4), axis=1).reshape(896, 317)\n",
    "Xtrain = np.append(Xtrain, (xtrain**5), axis=1).reshape(896, 396)\n",
    "Xtrain = np.append(Xtrain, (xtrain**6), axis=1).reshape(896, 475)\n",
    "#Xtrain = np.append(Xtrain, (xtrain**7), axis=1).reshape(896, 554)\n",
    "#Xtrain = np.append(Xtrain, (xtrain**8), axis=1).reshape(896, 633)\n",
    "print(\"The dimensions for the feature set after appending with vector of ones:\", Xtrain.shape)"
   ]
  },
  {
   "cell_type": "code",
   "execution_count": 272,
   "id": "b86799be",
   "metadata": {},
   "outputs": [
    {
     "name": "stdout",
     "output_type": "stream",
     "text": [
      "Showing the amended array:  [[1.00000000e+00 3.15789474e-01 2.00000000e-01 ... 1.05007365e+00\n",
      "  3.81469727e-06 2.14334705e-05]\n",
      " [1.00000000e+00 1.05263158e-01 2.00000000e-01 ... 1.07501714e+00\n",
      "  3.81469727e-06 2.14334705e-05]\n",
      " [1.00000000e+00 3.15789474e-01 2.00000000e-01 ... 1.05007365e+00\n",
      "  3.81469727e-06 2.14334705e-05]\n",
      " ...\n",
      " [1.00000000e+00 8.42105263e-01 2.00000000e-01 ... 1.00000000e+00\n",
      "  3.81469727e-06 2.14334705e-05]\n",
      " [1.00000000e+00 1.05263158e-01 2.00000000e-01 ... 1.07501714e+00\n",
      "  3.81469727e-06 2.14334705e-05]\n",
      " [1.00000000e+00 4.73684211e-01 2.00000000e-01 ... 1.05007365e+00\n",
      "  3.81469727e-06 3.34897977e-01]]\n"
     ]
    }
   ],
   "source": [
    "#Since all features are differently scaled, we will scale the features through their mean\n",
    "#which maps each value between the range 0 and 1.\n",
    "for i in range(475): Xtrain[:, i] /= np.max(Xtrain, axis=0)[i]\n",
    "print(\"Showing the amended array: \", Xtrain)"
   ]
  },
  {
   "cell_type": "code",
   "execution_count": 279,
   "id": "5e775b67",
   "metadata": {},
   "outputs": [],
   "source": [
    "#Here we define the cost function [with regularization] and lambda values\n",
    "m = 896\n",
    "lambda1 = 2\n",
    "def computeCost(Xtrain, ytrain, theta):\n",
    "    J = (1/(2*m))*(((np.sum(np.square((Xtrain @ theta) - ytrain))))+(lambda1*np.sum(np.square(theta))))\n",
    "    return J;"
   ]
  },
  {
   "cell_type": "code",
   "execution_count": 280,
   "id": "b8c42b07",
   "metadata": {},
   "outputs": [
    {
     "name": "stdout",
     "output_type": "stream",
     "text": [
      "The final cost value is: [3.98046089e+08]\n"
     ]
    }
   ],
   "source": [
    "#We will now run gradient descent on the cost function to compute its minima\n",
    "alpha = 0.018\n",
    "iterations = 2000 #we will run our gradient descent for these iterations\n",
    "theta = np.zeros((475, 1)) #Initialising theta to zeros\n",
    "\n",
    "def gradientDescent(Xtrain, ytrain, theta, alpha, iterations, m):\n",
    "    J_history = np.zeros(iterations).reshape(iterations, 1)\n",
    "    for iter in range(iterations):\n",
    "        theta = theta - ((alpha/m)*(Xtrain.transpose() @ ((Xtrain @ theta)-ytrain)))\n",
    "        J_history[iter] = computeCost(Xtrain, ytrain, theta)\n",
    "    return [theta, J_history]\n",
    "\n",
    "returned = gradientDescent(Xtrain, ytrain, theta, alpha, iterations, m)\n",
    "theta = returned[0]\n",
    "J_history = returned[1]\n",
    "print(\"The final cost value is:\", J_history[1999])"
   ]
  },
  {
   "cell_type": "code",
   "execution_count": 281,
   "id": "b4b9c67b",
   "metadata": {},
   "outputs": [
    {
     "data": {
      "text/plain": [
       "[<matplotlib.lines.Line2D at 0x1701df05390>]"
      ]
     },
     "execution_count": 281,
     "metadata": {},
     "output_type": "execute_result"
    },
    {
     "data": {
      "image/png": "[encoded data removed]",
      "text/plain": [
       "<Figure size 432x288 with 1 Axes>"
      ]
     },
     "metadata": {
      "needs_background": "light"
     },
     "output_type": "display_data"
    }
   ],
   "source": [
    "#We will also plot the value of the cost function after each iteration, to see the value reach a minimum and converge to a\n",
    "#stabalised value\n",
    "plt.xlabel('Iterations')\n",
    "plt.ylabel('Cost function history')\n",
    "plt.plot(range(2000), J_history)"
   ]
  },
  {
   "cell_type": "code",
   "execution_count": 282,
   "id": "de7600f2",
   "metadata": {},
   "outputs": [
    {
     "name": "stdout",
     "output_type": "stream",
     "text": [
      "The standard deviation of the values is: [47860.32439748]\n"
     ]
    }
   ],
   "source": [
    "#We need to now test our values against our dataset\n",
    "X0test = np.ones(len(xtest)).reshape(225, 1)\n",
    "Xtest = np.append(X0test, xtest, axis=1).reshape(225, 80)\n",
    "Xtest = np.append(Xtest, (xtest**2), axis=1).reshape(225, 159)\n",
    "Xtest = np.append(Xtest, (xtest**3), axis=1).reshape(225, 238)\n",
    "Xtest = np.append(Xtest, (xtest**4), axis=1).reshape(225, 317)\n",
    "Xtest = np.append(Xtest, (xtest**5), axis=1).reshape(225, 396)\n",
    "Xtest = np.append(Xtest, (xtest**6), axis=1).reshape(225, 475)\n",
    "for i in range(475): Xtest[:, i] /= np.max(Xtest, axis=0)[i]\n",
    "prediction = Xtest @ theta\n",
    "std_deviation = np.std((ytest-prediction), axis=0)\n",
    "print('The standard deviation of the values is:', std_deviation)"
   ]
  },
  {
   "cell_type": "code",
   "execution_count": null,
   "id": "9f742d02",
   "metadata": {},
   "outputs": [],
   "source": []
  }
 ],
 "metadata": {
  "kernelspec": {
   "display_name": "Python 3 (ipykernel)",
   "language": "python",
   "name": "python3"
  },
  "language_info": {
   "codemirror_mode": {
    "name": "ipython",
    "version": 3
   },
   "file_extension": ".py",
   "mimetype": "text/x-python",
   "name": "python",
   "nbconvert_exporter": "python",
   "pygments_lexer": "ipython3",
   "version": "3.10.0"
  }
 },
 "nbformat": 4,
 "nbformat_minor": 5
}
